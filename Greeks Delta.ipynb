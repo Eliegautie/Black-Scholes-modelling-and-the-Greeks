{
 "cells": [
  {
   "cell_type": "code",
   "execution_count": 1,
   "id": "9fc1fde2",
   "metadata": {},
   "outputs": [],
   "source": [
    "import numpy as np\n",
    "from scipy.stats import norm\n",
    "import matplotlib.pyplot as plt\n",
    "\n",
    "# N() = cumulative distribution function\n",
    "# T = time left til' maturity (in years)\n",
    "# S = stock price\n",
    "# K = strike price\n",
    "# r = risk free rate\n",
    "# q = annualized dividend\n",
    "# sigma = volatility\n",
    "\n",
    "\n",
    "\n",
    "# Greeks : DELTA\n",
    "# CALL\n",
    "\n",
    "K = 100\n",
    "S = 100\n",
    "r = 0.1\n",
    "sigma = 0.3\n",
    "def optDelta_C(q,T):\n",
    "    d1 = ((np.log(S/K) + ((r-q) + sigma**2/2)*T)) / (sigma*np.sqrt(T)) #BSM dividend\n",
    "    return np.exp(-q*T) * d1 "
   ]
  },
  {
   "cell_type": "code",
   "execution_count": 2,
   "id": "6d15cb54",
   "metadata": {},
   "outputs": [
    {
     "data": {
      "text/plain": [
       "0.30122265109189283"
      ]
     },
     "execution_count": 2,
     "metadata": {},
     "output_type": "execute_result"
    }
   ],
   "source": [
    "optDelta_C(0.05,1)"
   ]
  },
  {
   "cell_type": "code",
   "execution_count": 3,
   "id": "b2f22d53",
   "metadata": {},
   "outputs": [],
   "source": [
    "# if the underlying stock price moved by +100%, the Call option price moved by 30%  "
   ]
  },
  {
   "cell_type": "code",
   "execution_count": 4,
   "id": "61806855",
   "metadata": {},
   "outputs": [],
   "source": [
    "# when you pay lower dividend  - > stock is subject to higher volatility\n",
    "# you can't pay high dividend and keep the price stable\n",
    "# you pay dividend when the stock is stable - > volatility is less\n",
    "# So when q is increasing -> delta is decreasing"
   ]
  },
  {
   "cell_type": "code",
   "execution_count": 5,
   "id": "36689991",
   "metadata": {},
   "outputs": [
    {
     "data": {
      "text/plain": [
       "0.5514596390946142"
      ]
     },
     "execution_count": 5,
     "metadata": {},
     "output_type": "execute_result"
    }
   ],
   "source": [
    "optDelta_C(0.05,5)"
   ]
  },
  {
   "cell_type": "code",
   "execution_count": 6,
   "id": "fdaa8624",
   "metadata": {},
   "outputs": [],
   "source": [
    "# Greeks : Delta\n",
    "# PUT\n",
    "\n",
    "K = 100\n",
    "S = 100\n",
    "r = 0.1\n",
    "sigma = 0.3\n",
    "def optDelta_P(q,T):\n",
    "    d1 = ((np.log(S/K) + ((r-q) + sigma**2/2)*T)) / (sigma*np.sqrt(T)) #BSM dividend\n",
    "    return np.exp(-q*T) * (d1-1) * 100"
   ]
  },
  {
   "cell_type": "code",
   "execution_count": 7,
   "id": "6051f423",
   "metadata": {},
   "outputs": [
    {
     "data": {
      "text/plain": [
       "-65.00067734088213"
      ]
     },
     "execution_count": 7,
     "metadata": {},
     "output_type": "execute_result"
    }
   ],
   "source": [
    "optDelta_P(0.05,1)"
   ]
  },
  {
   "cell_type": "code",
   "execution_count": 8,
   "id": "00baa216",
   "metadata": {},
   "outputs": [],
   "source": [
    "# if the underlying stock price moved by +100%, the Put option price moved by -65%"
   ]
  },
  {
   "cell_type": "code",
   "execution_count": 9,
   "id": "9c53eeb4",
   "metadata": {},
   "outputs": [
    {
     "data": {
      "text/plain": [
       "-69.92953649294613"
      ]
     },
     "execution_count": 9,
     "metadata": {},
     "output_type": "execute_result"
    }
   ],
   "source": [
    "optDelta_P(0.07,1)"
   ]
  }
 ],
 "metadata": {
  "kernelspec": {
   "display_name": "Python 3 (ipykernel)",
   "language": "python",
   "name": "python3"
  },
  "language_info": {
   "codemirror_mode": {
    "name": "ipython",
    "version": 3
   },
   "file_extension": ".py",
   "mimetype": "text/x-python",
   "name": "python",
   "nbconvert_exporter": "python",
   "pygments_lexer": "ipython3",
   "version": "3.9.13"
  }
 },
 "nbformat": 4,
 "nbformat_minor": 5
}
