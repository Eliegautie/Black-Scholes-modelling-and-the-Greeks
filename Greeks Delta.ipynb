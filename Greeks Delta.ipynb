{
 "cells": [
  {
   "cell_type": "code",
   "execution_count": 3,
   "id": "9fc1fde2",
   "metadata": {},
   "outputs": [],
   "source": [
    "import numpy as np\n",
    "from scipy.stats import norm\n",
    "import matplotlib.pyplot as plt\n",
    "\n",
    "# N() = cumulative distribution function\n",
    "# T = time left til' maturity (in years)\n",
    "# S = stock price\n",
    "# K = strike price\n",
    "# r = risk free rate\n",
    "# q = annualized dividend\n",
    "# sigma = volatility\n",
    "\n",
    "\n",
    "\n",
    "# Greeks : DELTA\n",
    "# CALL\n",
    "\n",
    "K = 100\n",
    "S = 100\n",
    "r = 0.1\n",
    "sigma = 0.3\n",
    "def optDelta_C(q,T):\n",
    "    d1 = ((np.log(S/K) + ((r-q) + sigma**2/2)*T)) / (sigma*np.sqrt(T)) #BSM dividend\n",
    "    return np.exp(-q*T) * d1 "
   ]
  },
  {
   "cell_type": "code",
   "execution_count": 4,
   "id": "6d15cb54",
   "metadata": {},
   "outputs": [
    {
     "data": {
      "text/plain": [
       "0.30122265109189283"
      ]
     },
     "execution_count": 4,
     "metadata": {},
     "output_type": "execute_result"
    }
   ],
   "source": [
    "optDelta_C(0.05,1)"
   ]
  },
  {
   "cell_type": "code",
   "execution_count": 3,
   "id": "b2f22d53",
   "metadata": {},
   "outputs": [],
   "source": [
    "# for q = 0.05, when S moves up by 100%, the option price is increasing by 30%"
   ]
  },
  {
   "cell_type": "code",
   "execution_count": 9,
   "id": "36689991",
   "metadata": {},
   "outputs": [
    {
     "data": {
      "text/plain": [
       "0.23309845497648707"
      ]
     },
     "execution_count": 9,
     "metadata": {},
     "output_type": "execute_result"
    }
   ],
   "source": [
    "optDelta_C(0.07,1)"
   ]
  },
  {
   "cell_type": "code",
   "execution_count": 19,
   "id": "4721542d",
   "metadata": {},
   "outputs": [],
   "source": [
    "# for q = 0.07, when S moves up by 100%, the option price is increasing by 23%"
   ]
  },
  {
   "cell_type": "markdown",
   "id": "2a96d0fd",
   "metadata": {},
   "source": [
    "- When q moves up, Delta is decreasing\n",
    "- q is normally paid when the share price is stable, a stable price means low volatility.\n",
    "- Thus, a higher q means that S is subject to lower volatility \n",
    "- Lower volatility has a direct impact on Delta, which measures the sensitivity of an option price to movements in the underlying stock."
   ]
  },
  {
   "cell_type": "code",
   "execution_count": 20,
   "id": "aee6e2b6",
   "metadata": {},
   "outputs": [
    {
     "data": {
      "text/plain": [
       "0.40521722697088414"
      ]
     },
     "execution_count": 20,
     "metadata": {},
     "output_type": "execute_result"
    }
   ],
   "source": [
    "optDelta_C(0.05,2)"
   ]
  },
  {
   "cell_type": "code",
   "execution_count": 21,
   "id": "7e1403c9",
   "metadata": {},
   "outputs": [],
   "source": [
    "# if T increases, Delta increases\n",
    "# S as more amount of time in the market subject to volatility"
   ]
  },
  {
   "cell_type": "code",
   "execution_count": 14,
   "id": "fdaa8624",
   "metadata": {},
   "outputs": [],
   "source": [
    "# Greeks : Delta\n",
    "# PUT\n",
    "\n",
    "K = 100\n",
    "S = 100\n",
    "r = 0.1\n",
    "sigma = 0.3\n",
    "def optDelta_P(q,T):\n",
    "    d1 = ((np.log(S/K) + ((r-q) + sigma**2/2)*T)) / (sigma*np.sqrt(T)) #BSM dividend\n",
    "    return np.exp(-q*T) * (d1-1) * 100"
   ]
  },
  {
   "cell_type": "code",
   "execution_count": 15,
   "id": "6051f423",
   "metadata": {},
   "outputs": [
    {
     "data": {
      "text/plain": [
       "-65.00067734088213"
      ]
     },
     "execution_count": 15,
     "metadata": {},
     "output_type": "execute_result"
    }
   ],
   "source": [
    "optDelta_P(0.05,1)"
   ]
  },
  {
   "cell_type": "code",
   "execution_count": 17,
   "id": "9c53eeb4",
   "metadata": {},
   "outputs": [
    {
     "data": {
      "text/plain": [
       "-69.92953649294613"
      ]
     },
     "execution_count": 17,
     "metadata": {},
     "output_type": "execute_result"
    }
   ],
   "source": [
    "optDelta_P(0.07,1)"
   ]
  },
  {
   "cell_type": "markdown",
   "id": "e521112a",
   "metadata": {},
   "source": [
    "- if S increases by 100%, the value of a put is decreasing\n",
    "- Moreover, if the volatility is lower, the chances of seeing S decreased are lower.\n",
    "- This has a direct impact on the price of the put option which should decrease more strongly "
   ]
  }
 ],
 "metadata": {
  "kernelspec": {
   "display_name": "Python 3 (ipykernel)",
   "language": "python",
   "name": "python3"
  },
  "language_info": {
   "codemirror_mode": {
    "name": "ipython",
    "version": 3
   },
   "file_extension": ".py",
   "mimetype": "text/x-python",
   "name": "python",
   "nbconvert_exporter": "python",
   "pygments_lexer": "ipython3",
   "version": "3.9.13"
  }
 },
 "nbformat": 4,
 "nbformat_minor": 5
}
