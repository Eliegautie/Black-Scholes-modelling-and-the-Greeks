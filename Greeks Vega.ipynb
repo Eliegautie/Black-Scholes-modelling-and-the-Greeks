{
 "cells": [
  {
   "cell_type": "code",
   "execution_count": 1,
   "id": "1bdde28d",
   "metadata": {},
   "outputs": [],
   "source": [
    "# Calculating the vega for call and put options\n",
    "\n",
    "import numpy as np\n",
    "from scipy.stats import norm\n",
    "import matplotlib.pyplot as plt\n",
    "import math \n",
    "\n",
    "\n",
    "def Vega(S,K,T,r,sigma):\n",
    "    d1 = (np.log(S/K)+(r+(sigma**2)/2)*T)/(sigma*np.sqrt(T))\n",
    "    print(d1)\n",
    "    N_d1_prime = np.exp(-d1**2/2) / np.sqrt(2*math.pi)\n",
    "    print(N_d1_prime)\n",
    "    \n",
    "    return (S*(T**0.5)*N_d1_prime)/100"
   ]
  },
  {
   "cell_type": "code",
   "execution_count": 2,
   "id": "b2ff136a",
   "metadata": {},
   "outputs": [
    {
     "name": "stdout",
     "output_type": "stream",
     "text": [
      "0.0724568837309472\n",
      "0.3978964301943225\n"
     ]
    },
    {
     "data": {
      "text/plain": [
       "0.34596402455458763"
      ]
     },
     "execution_count": 2,
     "metadata": {},
     "output_type": "execute_result"
    }
   ],
   "source": [
    "Vega(300,300,0.084,0.03,0.3)"
   ]
  },
  {
   "cell_type": "code",
   "execution_count": 3,
   "id": "e50e97ff",
   "metadata": {},
   "outputs": [],
   "source": [
    "# For a 1% increase in the volatility of the underlying asset, the option price will increase by approximately $0.3459."
   ]
  }
 ],
 "metadata": {
  "kernelspec": {
   "display_name": "Python 3 (ipykernel)",
   "language": "python",
   "name": "python3"
  },
  "language_info": {
   "codemirror_mode": {
    "name": "ipython",
    "version": 3
   },
   "file_extension": ".py",
   "mimetype": "text/x-python",
   "name": "python",
   "nbconvert_exporter": "python",
   "pygments_lexer": "ipython3",
   "version": "3.9.13"
  }
 },
 "nbformat": 4,
 "nbformat_minor": 5
}
