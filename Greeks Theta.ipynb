{
 "cells": [
  {
   "cell_type": "code",
   "execution_count": 1,
   "id": "18c7ee01",
   "metadata": {},
   "outputs": [],
   "source": [
    "# Greeks : THETA\n",
    "# Theta for a non-dividend paying stock in a European call and put option\n",
    "# Black-Scholes Merton model\n",
    "\n",
    "\n",
    "import numpy as np\n",
    "from scipy.stats import norm\n",
    "import matplotlib.pyplot as plt\n",
    "import math \n",
    "\n",
    "# N_Prime_D1 = N’(d1) represents the first order derivative of the cumulative distribution function of the normal distribution\n",
    "# S = underlying asset price (at the time of valuation of the option)\n",
    "# sigma = volatility\n",
    "# T = time to option's maturity (in years)\n",
    "# K = strike price\n",
    "# r = risk-free rate of return\n",
    "\n",
    "N = norm.cdf\n",
    "\n",
    "def Theta_CALL(S, K, T, r, sigma):\n",
    "    d1 = (np.log(S/K) + (r+(sigma**2/2)) * T)/(sigma*np.sqrt(T))    \n",
    "    d2 = (np.log(S/K) + (r-(sigma**2/2)) * T)/(sigma*np.sqrt(T))    \n",
    "    N_d1_prime = np.exp(-d1**2/2) / np.sqrt(2*math.pi)    \n",
    "    \n",
    "    return (((-1*S*N_d1_prime*sigma)/2*np.sqrt(T))-(r*S*np.exp(-1*r*T)*N(d2)))/252 # I divided by 252 to to get Theta per trading day\n",
    "   \n",
    "    \n",
    "    \n",
    "\n",
    "\n",
    "def Theta_PUT(S, K, T, r, sigma):\n",
    "    d1 = (np.log(S/K) + (r+(sigma**2/2)) * T)/(sigma*np.sqrt(T))\n",
    "    d2 = (np.log(S/K) + (r-(sigma**2/2)) * T)/(sigma*np.sqrt(T))\n",
    "    N_d1_prime = np.exp(-d1**2/2) / np.sqrt(2*math.pi)\n",
    "    \n",
    "    return (((-1*S*N_d1_prime*sigma)/2*np.sqrt(T))+(r*S*np.exp(-1*r*T)*N(-d2)))/252\n"
   ]
  },
  {
   "cell_type": "code",
   "execution_count": 2,
   "id": "7b7c94c7",
   "metadata": {},
   "outputs": [
    {
     "data": {
      "text/plain": [
       "-0.03819935082645276"
      ]
     },
     "execution_count": 2,
     "metadata": {},
     "output_type": "execute_result"
    }
   ],
   "source": [
    "Theta_CALL(300, 300, 0.084, 0.03, 0.3)"
   ]
  },
  {
   "cell_type": "code",
   "execution_count": 3,
   "id": "4fd3087a",
   "metadata": {},
   "outputs": [],
   "source": [
    "# We can say that after one trading day, the price of the option will decrease by $0.0381 (approximately) due to time decay."
   ]
  }
 ],
 "metadata": {
  "kernelspec": {
   "display_name": "Python 3 (ipykernel)",
   "language": "python",
   "name": "python3"
  },
  "language_info": {
   "codemirror_mode": {
    "name": "ipython",
    "version": 3
   },
   "file_extension": ".py",
   "mimetype": "text/x-python",
   "name": "python",
   "nbconvert_exporter": "python",
   "pygments_lexer": "ipython3",
   "version": "3.9.13"
  }
 },
 "nbformat": 4,
 "nbformat_minor": 5
}
